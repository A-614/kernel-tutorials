{
 "cells": [
  {
   "cell_type": "markdown",
   "metadata": {},
   "source": [
    "In this notebook, we will tie in many of the pieces covered in this tutorial.\n",
    "\n",
    "First, we will take a materials dataset, in the form of cartesian coordinates, and translate it into SOAP descriptors using `librascal`, as was covered briefly in [**X_ImportingData.ipynb**](X_ImportingData.ipynb).\n",
    "\n",
    "Next, we'll reduce the feature space of these SOAP vectors using PCov-CUR, which is covered in [**5_CUR.ipynb**](5_CUR.ipynb). \n",
    "\n",
    "From here, we'll select an _active_ set of samples using PCov-CUR and use them to build a set of sparse kernels, as was introduced [**4_SparseKernelMethods.ipynb**](4_SparseKernelMethodsipynb), and use this sparse kernel to build a `SparseKPCovR` map.\n",
    "\n",
    "Finally, we will port this `SparseKPCovR` into a `chemiscope` visualization (covered in [**1_LinearMethods.ipynb**](1_LinearMethods.ipynb)), which can be loaded on [chemiscope.org](chemiscope.org).\n",
    "\n",
    "With each of the sections, we'll provide a \"fast-forward\" cell, where you can skip the section by un-commenting and executing the cell. For example, if you have pre-computed your SOAP vectors and would like to simply import them, skip section 1 and execute the cell under `1.1 Skip Computing SOAPS`."
   ]
  },
  {
   "cell_type": "code",
   "execution_count": 1,
   "metadata": {},
   "outputs": [],
   "source": [
    "#!/usr/bin/env python3\n",
    "import sys\n",
    "import numpy as np\n",
    "from sklearn.linear_model import RidgeCV\n",
    "\n",
    "\n",
    "def calc_rmse(y1, y2, y_scaler, rounding=4):\n",
    "    rmse = round(\n",
    "        np.mean(\n",
    "            (y_scaler.inverse_transform(y1) - y_scaler.inverse_transform(y2)) ** 2.0\n",
    "        )\n",
    "        ** 0.5,\n",
    "        4,\n",
    "    )\n",
    "    return rmse"
   ]
  },
  {
   "cell_type": "markdown",
   "metadata": {},
   "source": [
    "# Import data and Compute SOAP Vectors"
   ]
  },
  {
   "cell_type": "code",
   "execution_count": 2,
   "metadata": {},
   "outputs": [],
   "source": [
    "# Atomistic structure manipulation\n",
    "from ase import io\n",
    "\n",
    "# Librascal\n",
    "from rascal.representations import SphericalInvariants as SOAP"
   ]
  },
  {
   "cell_type": "markdown",
   "metadata": {},
   "source": [
    "**Because we are demonstrating with an environment-centred property, we pull the properties from the frame.arrays object.**"
   ]
  },
  {
   "cell_type": "code",
   "execution_count": 3,
   "metadata": {},
   "outputs": [
    {
     "name": "stdout",
     "output_type": "stream",
     "text": [
      "Within the 20 frames we have 2538 environments.\n"
     ]
    }
   ],
   "source": [
    "N = 20\n",
    "input_file = \"../datasets/CSD-1000R.xyz\"\n",
    "properties = [\"CS_local\", \"CS_total\"]\n",
    "target = \"atom\"\n",
    "\n",
    "# Read the first N frames of CSD-500\n",
    "frames = np.asarray(io.read(input_file, index=\":{}\".format(N)), dtype=object)\n",
    "\n",
    "# Extract chemical shifts\n",
    "for frame in frames:\n",
    "    frame.wrap()\n",
    "\n",
    "Y_raw = np.vstack(\n",
    "    [np.concatenate([frame.arrays[prop] for frame in frames]) for prop in properties]\n",
    ").T\n",
    "print(\"Within the {} frames we have {} environments.\".format(N, len(Y_raw)))"
   ]
  },
  {
   "cell_type": "code",
   "execution_count": 4,
   "metadata": {},
   "outputs": [
    {
     "name": "stdout",
     "output_type": "stream",
     "text": [
      "There are 2520 features\n"
     ]
    }
   ],
   "source": [
    "# Compute SOAPs (from librascal tutorial)\n",
    "hypers = dict(\n",
    "    soap_type=\"PowerSpectrum\",\n",
    "    interaction_cutoff=3.5,\n",
    "    max_radial=6,\n",
    "    max_angular=6,\n",
    "    gaussian_sigma_type=\"Constant\",\n",
    "    gaussian_sigma_constant=0.4,\n",
    "    cutoff_smooth_width=0.5,\n",
    ")\n",
    "soap = SOAP(**hypers)\n",
    "\n",
    "soap_rep = soap.transform(frames)\n",
    "X_raw = soap_rep.get_features(soap)\n",
    "\n",
    "num_features = X_raw.shape[1]\n",
    "print(f\"There are {num_features} features\")"
   ]
  },
  {
   "cell_type": "code",
   "execution_count": 5,
   "metadata": {},
   "outputs": [],
   "source": [
    "# np.savez('soap_file.npz', X=X_raw, Y=Y_raw, property_names=properties, target=target)\n",
    "# np.savez('soap_hypers.npz', **hypers)"
   ]
  },
  {
   "cell_type": "markdown",
   "metadata": {},
   "source": [
    "## Skip Computing SOAPs"
   ]
  },
  {
   "cell_type": "code",
   "execution_count": 6,
   "metadata": {},
   "outputs": [],
   "source": [
    "# # Atomistic structure manipulation\n",
    "# from ase import io\n",
    "\n",
    "# # Import SOAP vectors from numpy file\n",
    "# soap_file = 'soap_file.npz'\n",
    "# data = np.load(soap_file)\n",
    "# X_raw = data['X'] # soap vectors (n_samples x n_features)\n",
    "# Y_raw = data['Y'] # property vectors (n_samples x n_properties)\n",
    "# target = data['target']\n",
    "# properties = data['property_names'] # names of your properties\n",
    "\n",
    "# hyper_file = 'soap_hypers.npz'\n",
    "# hypers = np.load(hyper_file)\n",
    "\n",
    "# num_features = X_raw.shape[1]\n",
    "\n",
    "# # If you end up wanting a chemiscope, you'll need to import your frames as well\n",
    "# ase_file = \"../datasets/CSD-1000R.xyz\"\n",
    "# frames = np.asarray(io.read(ase_file, ':'), dtype=object)"
   ]
  },
  {
   "cell_type": "markdown",
   "metadata": {},
   "source": [
    "# Split into training, validation, and testing subset and standardize"
   ]
  },
  {
   "cell_type": "markdown",
   "metadata": {},
   "source": [
    "## Do a random, test-train split"
   ]
  },
  {
   "cell_type": "code",
   "execution_count": 7,
   "metadata": {},
   "outputs": [],
   "source": [
    "from sklearn.model_selection import train_test_split\n",
    "\n",
    "f_train = 0.7\n",
    "f_test = 0.3\n",
    "\n",
    "i_train, i_test = train_test_split(np.arange(X_raw.shape[0]), test_size=f_test)"
   ]
  },
  {
   "cell_type": "code",
   "execution_count": 8,
   "metadata": {},
   "outputs": [],
   "source": [
    "# np.savez('split_file.npz', i_train=i_train, i_test=i_test)"
   ]
  },
  {
   "cell_type": "markdown",
   "metadata": {},
   "source": [
    "### Skip test-train split"
   ]
  },
  {
   "cell_type": "code",
   "execution_count": 9,
   "metadata": {},
   "outputs": [],
   "source": [
    "# # Import testing and training indices from numpy file\n",
    "\n",
    "# index_file = 'split_file.npz'\n",
    "\n",
    "# data = np.load(index_file)\n",
    "# i_train = data['i_train']\n",
    "# i_test = data['i_test']"
   ]
  },
  {
   "cell_type": "markdown",
   "metadata": {},
   "source": [
    "## Scale and Center data"
   ]
  },
  {
   "cell_type": "code",
   "execution_count": 10,
   "metadata": {},
   "outputs": [],
   "source": [
    "from skcosmo.preprocessing import StandardFlexibleScaler as SFS\n",
    "\n",
    "X_raw_train, X_raw_test = X_raw[i_train], X_raw[i_test]\n",
    "Y_train, Y_test = Y_raw[i_train], Y_raw[i_test]\n",
    "\n",
    "x_scaler = SFS(column_wise=False)\n",
    "y_scaler = SFS(column_wise=True)\n",
    "\n",
    "Y_train = y_scaler.fit_transform(Y_train)\n",
    "Y_test = y_scaler.transform(Y_test)\n",
    "Y = y_scaler.transform(Y_raw)\n",
    "\n",
    "X_raw_train = x_scaler.fit_transform(X_raw_train)\n",
    "X_raw_test = x_scaler.transform(X_raw_test)\n",
    "X = x_scaler.transform(X_raw)"
   ]
  },
  {
   "cell_type": "markdown",
   "metadata": {},
   "source": [
    "# Sub-select the SOAP Features"
   ]
  },
  {
   "cell_type": "markdown",
   "metadata": {},
   "source": [
    "The best results from PCov-CUR comes from using regression properties, so we can do a quick cross-validated ridge regression."
   ]
  },
  {
   "cell_type": "code",
   "execution_count": 11,
   "metadata": {},
   "outputs": [
    {
     "name": "stdout",
     "output_type": "stream",
     "text": [
      "This regression has an RMSE of 11.4972ppm on the testing set.\n"
     ]
    }
   ],
   "source": [
    "r = RidgeCV(cv=4, fit_intercept=False, alphas=np.logspace(-8, 2, 10))\n",
    "r.fit(X_raw_train, Y_train)\n",
    "\n",
    "Yp_train = r.predict(X_raw_train)\n",
    "Yp_test = r.predict(X_raw_test)\n",
    "rmse = round(\n",
    "    np.mean(\n",
    "        (y_scaler.inverse_transform(Y_test) - y_scaler.inverse_transform(Yp_test))\n",
    "        ** 2.0\n",
    "    )\n",
    "    ** 0.5,\n",
    "    4,\n",
    ")\n",
    "\n",
    "print(f\"This regression has an RMSE of {rmse}ppm on the testing set.\")"
   ]
  },
  {
   "cell_type": "markdown",
   "metadata": {},
   "source": [
    "## Reducing the number of features\n",
    "Because (for now) using CUR is more costly than FPS, let's reduce the number of features first with FPS.\n",
    "\n",
    "We have set `mixing` to 0.5 for all the following methods."
   ]
  },
  {
   "cell_type": "markdown",
   "metadata": {},
   "source": [
    "### Use FPS on the features to remove redundancies"
   ]
  },
  {
   "cell_type": "code",
   "execution_count": 12,
   "metadata": {},
   "outputs": [
    {
     "name": "stdout",
     "output_type": "stream",
     "text": [
      "Selecting 630 features\n"
     ]
    },
    {
     "data": {
      "application/vnd.jupyter.widget-view+json": {
       "model_id": "06972753cbf14031a7d970fd553b441c",
       "version_major": 2,
       "version_minor": 0
      },
      "text/plain": [
       "HBox(children=(HTML(value=''), FloatProgress(value=0.0, max=629.0), HTML(value='')))"
      ]
     },
     "metadata": {},
     "output_type": "display_data"
    },
    {
     "name": "stdout",
     "output_type": "stream",
     "text": [
      "\n"
     ]
    }
   ],
   "source": [
    "from skcosmo.selection import FeatureFPS\n",
    "\n",
    "num_FPS = int(num_features / 4)\n",
    "fps_mixing = 0.5\n",
    "\n",
    "print(f\"Selecting {num_FPS} features\")\n",
    "ffps = FeatureFPS(X=X_raw_train, Y=Yp_train, mixing=fps_mixing, progress_bar=True)\n",
    "fps_idx = np.array(ffps.select(num_FPS))\n",
    "\n",
    "X_fps_train = X_raw_train[:, fps_idx]\n",
    "X_fps_test = X_raw_test[:, fps_idx]"
   ]
  },
  {
   "cell_type": "code",
   "execution_count": 13,
   "metadata": {},
   "outputs": [],
   "source": [
    "# # Skip using FPS\n",
    "\n",
    "# fps_idx = np.arange(X_raw_train.shape[1])"
   ]
  },
  {
   "cell_type": "markdown",
   "metadata": {},
   "source": [
    "### Demonstrate the superiority of the FPS indices to a set of random selections"
   ]
  },
  {
   "cell_type": "code",
   "execution_count": 36,
   "metadata": {},
   "outputs": [
    {
     "name": "stdout",
     "output_type": "stream",
     "text": [
      "The regression now has an RMSE of 12.4088ppm on the testing set, using only 630 / 2520 features.\n",
      "By comparison, a regression on 630 random features gives an RMSE of 20.9189±1.65 ppm.\n"
     ]
    }
   ],
   "source": [
    "# r = RidgeCV(cv=4, fit_intercept=False, alphas=np.logspace(-8, 2, 10))\n",
    "# r.fit(X_fps_train, Y_train)\n",
    "\n",
    "# Yp_test = r.predict(X_fps_test)\n",
    "# rmse = calc_rmse(Yp_test, Y_test, y_scaler)\n",
    "\n",
    "# print(\n",
    "#     f\"The regression now has an RMSE of {rmse}ppm on the testing set, using only {num_FPS} / {num_features} features.\"\n",
    "# )\n",
    "\n",
    "# n_random = 10\n",
    "# rmses = []\n",
    "\n",
    "# for i in range(n_random):\n",
    "#     random_feat = np.random.choice(num_features, size=num_FPS)\n",
    "#     r.fit(X_raw_train[:, random_feat], Y_train)\n",
    "#     Yp_random_test = r.predict(X_raw_test[:, random_feat])\n",
    "\n",
    "#     rmses.append(calc_rmse(Yp_random_test, Y_test, y_scaler))\n",
    "\n",
    "# rmse = round(np.mean(rmses), 4)\n",
    "# rmse_dev = round(np.std(rmses), 2)\n",
    "\n",
    "# print(f\"By comparison, a regression on {num_FPS} random features gives an RMSE of {rmse}±{rmse_dev} ppm.\")"
   ]
  },
  {
   "cell_type": "markdown",
   "metadata": {},
   "source": [
    "### Use CUR selection to find the most information-rich feature vectors\n",
    "\n",
    "Note: This process can take some time, especially with larger matrices."
   ]
  },
  {
   "cell_type": "code",
   "execution_count": 15,
   "metadata": {},
   "outputs": [
    {
     "name": "stdout",
     "output_type": "stream",
     "text": [
      "Selecting 252 features\n"
     ]
    },
    {
     "data": {
      "application/vnd.jupyter.widget-view+json": {
       "model_id": "2a623e13a61c48f8a17d28391ad62326",
       "version_major": 2,
       "version_minor": 0
      },
      "text/plain": [
       "HBox(children=(HTML(value=''), FloatProgress(value=0.0, max=252.0), HTML(value='')))"
      ]
     },
     "metadata": {},
     "output_type": "display_data"
    },
    {
     "name": "stdout",
     "output_type": "stream",
     "text": [
      "\n"
     ]
    }
   ],
   "source": [
    "from skcosmo.selection import FeatureCUR\n",
    "\n",
    "num_CUR = int(num_features / 10)\n",
    "cur_mixing = 0.5\n",
    "\n",
    "print(f\"Selecting {num_CUR} features\")\n",
    "fcur = FeatureCUR(X=X_fps_train, Y=Yp_train, mixing=cur_mixing, progress_bar=True)\n",
    "cur_idx = fps_idx[fcur.select(num_CUR)]"
   ]
  },
  {
   "cell_type": "code",
   "execution_count": 16,
   "metadata": {},
   "outputs": [],
   "source": [
    "X_train = X_raw_train[:, cur_idx]\n",
    "X_test = X_raw_test[:, cur_idx]"
   ]
  },
  {
   "cell_type": "code",
   "execution_count": 17,
   "metadata": {},
   "outputs": [],
   "source": [
    "# np.savez('cur_file.npz', idx=cur_idx)"
   ]
  },
  {
   "cell_type": "markdown",
   "metadata": {},
   "source": [
    "### Demonstrate the superiority of the CUR indices to a set of random selections"
   ]
  },
  {
   "cell_type": "code",
   "execution_count": 35,
   "metadata": {},
   "outputs": [
    {
     "name": "stdout",
     "output_type": "stream",
     "text": [
      "The regression now has an RMSE of 14.017ppm on the testing set, using only 252 / 2520 features.\n",
      "A regression with 252 FPS features has an RMSE of 16.6344ppm on the testing set.\n",
      "By comparison, a regression on 252 random features gives an RMSE of 21.4139±1.41 ppm.\n"
     ]
    }
   ],
   "source": [
    "# r = RidgeCV(cv=4, fit_intercept=False, alphas=np.logspace(-8, 2, 10))\n",
    "# r.fit(X_raw_train[:, cur_idx], Y_train)\n",
    "\n",
    "# Yp_test = r.predict(X_raw_test[:, cur_idx])\n",
    "# rmse = calc_rmse(Yp_test, Y_test, y_scaler)\n",
    "\n",
    "# print(f\"The regression now has an RMSE of {rmse}ppm on the testing set, using only {num_CUR} / {num_features} features.\")\n",
    "\n",
    "# r.fit(X_raw_train[:, fps_idx[:num_CUR]], Y_train)\n",
    "\n",
    "# Yp_test = r.predict(X_raw_test[:, fps_idx[:num_CUR]])\n",
    "# rmse = calc_rmse(Yp_test, Y_test, y_scaler)\n",
    "\n",
    "# print(f\"A regression with {num_CUR} FPS features has an RMSE of {rmse}ppm on the testing set.\")\n",
    "\n",
    "# n_random = 10\n",
    "# rmses = []\n",
    "\n",
    "# for i in range(n_random):\n",
    "#     random_feat = np.random.choice(num_features, size=num_FPS)\n",
    "#     r.fit(X_raw_train[:, random_feat], Y_train)\n",
    "#     Yp_random_test = r.predict(X_raw_test[:, random_feat])\n",
    "\n",
    "#     rmses.append(calc_rmse(Yp_random_test, Y_test, y_scaler))\n",
    "\n",
    "# rmse = round(np.mean(rmses), 4)\n",
    "# rmse_dev = round(np.std(rmses), 2)\n",
    "\n",
    "# print(f\"By comparison, a regression on {num_CUR} random features gives an RMSE of {rmse}±{rmse_dev} ppm.\")"
   ]
  },
  {
   "cell_type": "markdown",
   "metadata": {},
   "source": [
    "### Skip CUR Feature Selection"
   ]
  },
  {
   "cell_type": "code",
   "execution_count": 19,
   "metadata": {},
   "outputs": [],
   "source": [
    "# # Import feature indices from numpy file\n",
    "\n",
    "# index_file = 'cur_file.npz'\n",
    "# data = np.load(index_file)\n",
    "# idx = data['idx']\n",
    "\n",
    "# X_train = X_raw_train[:, idx]\n",
    "# X_test = X_raw_test[:, idx]"
   ]
  },
  {
   "cell_type": "markdown",
   "metadata": {},
   "source": [
    "## Choosing the active set of environments"
   ]
  },
  {
   "cell_type": "code",
   "execution_count": 20,
   "metadata": {},
   "outputs": [
    {
     "name": "stdout",
     "output_type": "stream",
     "text": [
      "Selecting 177 samples\n"
     ]
    },
    {
     "data": {
      "application/vnd.jupyter.widget-view+json": {
       "model_id": "5c838339fa004203a54b93dd3520cdc9",
       "version_major": 2,
       "version_minor": 0
      },
      "text/plain": [
       "HBox(children=(HTML(value=''), FloatProgress(value=0.0, max=177.0), HTML(value='')))"
      ]
     },
     "metadata": {},
     "output_type": "display_data"
    },
    {
     "name": "stdout",
     "output_type": "stream",
     "text": [
      "\n"
     ]
    }
   ],
   "source": [
    "from skcosmo.selection import SampleCUR\n",
    "\n",
    "num_active = int(len(i_train) / 10)\n",
    "sample_mixing = 0.5\n",
    "\n",
    "print(f\"Selecting {num_active} samples\")\n",
    "scur = SampleCUR(X=X_train, Y=Yp_train, mixing=sample_mixing, progress_bar=True)\n",
    "sample_idx = scur.select(num_active)\n",
    "\n",
    "X_active = X_train[sample_idx]"
   ]
  },
  {
   "cell_type": "code",
   "execution_count": 21,
   "metadata": {},
   "outputs": [],
   "source": [
    "# np.savez('active_set_file.npz', idx=sample_idx)"
   ]
  },
  {
   "cell_type": "markdown",
   "metadata": {},
   "source": [
    "### Skip Choosing Active Set"
   ]
  },
  {
   "cell_type": "code",
   "execution_count": 22,
   "metadata": {},
   "outputs": [],
   "source": [
    "# # Import active set indices from numpy file\n",
    "\n",
    "# index_file = 'active_set_file.npz'\n",
    "# data = np.load(index_file)\n",
    "# sample_idx = data['idx']\n",
    "\n",
    "# X_active = X_train[sample_idx]"
   ]
  },
  {
   "cell_type": "markdown",
   "metadata": {},
   "source": [
    "# Constructing a Sparse KPCovR"
   ]
  },
  {
   "cell_type": "code",
   "execution_count": 23,
   "metadata": {},
   "outputs": [],
   "source": [
    "from sklearn.metrics.pairwise import pairwise_kernels\n",
    "from scipy.linalg import svd\n",
    "\n",
    "from skcosmo.pcovr import KPCovR\n",
    "from matplotlib import pyplot as plt\n",
    "\n",
    "kernel = \"rbf\"\n",
    "kernel_params = {\"gamma\": 0.2}"
   ]
  },
  {
   "cell_type": "markdown",
   "metadata": {},
   "source": [
    "## Determine the active kernel\n",
    "**Keep in mind that this example is originally written with an environment-centred property, and therefore we can use an environment kernel.**\n",
    "\n",
    "Until you can specify an active set with sklearn, we'll construct a sparse nystroem approximation in a similar manner, and replace this with the sklearn functionality when it becomes available."
   ]
  },
  {
   "cell_type": "code",
   "execution_count": 24,
   "metadata": {},
   "outputs": [],
   "source": [
    "active_kernel = pairwise_kernels(\n",
    "    X_active, metric=kernel, filter_params=True, **kernel_params\n",
    ")\n",
    "\n",
    "# By including the right singular vectors into the RKHS features, we normalize and center the RKHS.\n",
    "U, S, V = svd(active_kernel)\n",
    "S = np.maximum(S, 1e-12)\n",
    "normalization_ = np.dot(U / np.sqrt(S), V)\n",
    "components_ = X_active.copy()\n",
    "\n",
    "Phi_train = np.dot(\n",
    "    pairwise_kernels(\n",
    "        X_train, components_, metric=kernel, filter_params=True, **kernel_params\n",
    "    ),\n",
    "    normalization_.T,\n",
    ")\n",
    "\n",
    "Phi_test = np.dot(\n",
    "    pairwise_kernels(\n",
    "        X_test, components_, metric=kernel, filter_params=True, **kernel_params\n",
    "    ),\n",
    "    normalization_.T,\n",
    ")"
   ]
  },
  {
   "cell_type": "markdown",
   "metadata": {},
   "source": [
    "## Train the KPCovR"
   ]
  },
  {
   "cell_type": "markdown",
   "metadata": {},
   "source": [
    "Because we've explicitly determined our RKHS features, we can train a _linear_ KPCovR on the RKHS features and obtain the same result as SparseKPCovR."
   ]
  },
  {
   "cell_type": "code",
   "execution_count": 25,
   "metadata": {},
   "outputs": [
    {
     "data": {
      "text/plain": [
       "<matplotlib.collections.PathCollection at 0x7faf643297b8>"
      ]
     },
     "execution_count": 25,
     "metadata": {},
     "output_type": "execute_result"
    },
    {
     "data": {
      "image/png": "[encoded data removed]",
      "text/plain": [
       "<Figure size 432x288 with 1 Axes>"
      ]
     },
     "metadata": {
      "needs_background": "light"
     },
     "output_type": "display_data"
    }
   ],
   "source": [
    "kpcovr_hypers = dict(mixing=0.5, n_components=5)\n",
    "\n",
    "kpcovr = KPCovR(kernel=\"linear\", center=True, **kpcovr_hypers)\n",
    "kpcovr.fit(\n",
    "    Phi_train, Y_train, \n",
    "    Yhat=Yp_train # This will throw an error if Y has not been estimated.\n",
    ")  \n",
    "\n",
    "T_train = kpcovr.transform(Phi_train)\n",
    "T_test = kpcovr.transform(Phi_test)\n",
    "plt.scatter(T_train[:, 0], T_train[:, 1], c=Yp_train[:, 0])"
   ]
  },
  {
   "cell_type": "code",
   "execution_count": 26,
   "metadata": {},
   "outputs": [],
   "source": [
    "# np.savez('kpcovr_file.npz', T_train=T_train, T_test=T_test)"
   ]
  },
  {
   "cell_type": "markdown",
   "metadata": {},
   "source": [
    "### Skip Computing KPCovR"
   ]
  },
  {
   "cell_type": "code",
   "execution_count": 27,
   "metadata": {},
   "outputs": [],
   "source": [
    "# # Import kpcovr projection from numpy file\n",
    "\n",
    "# kpcovr_file = 'kpcovr_file.npz'\n",
    "# data = np.load(kpcovr_file)\n",
    "# T_train = data['T_train']\n",
    "# T_test = data['T_test']"
   ]
  },
  {
   "cell_type": "markdown",
   "metadata": {},
   "source": [
    "### Compare the predictive power of KPCovR and KPCA components"
   ]
  },
  {
   "cell_type": "code",
   "execution_count": 34,
   "metadata": {},
   "outputs": [
    {
     "name": "stdout",
     "output_type": "stream",
     "text": [
      "The regression on 5 KPCovR principal components has an RMSE of 14.607ppm on the testing set.\n",
      "By comparison, a regression on 5 KPCA components gives an RMSE of 64.1938ppm.\n"
     ]
    }
   ],
   "source": [
    "# r = RidgeCV(cv=4, fit_intercept=False, alphas=np.logspace(-8, 2, 10))\n",
    "# r.fit(T_train, Y_train)\n",
    "\n",
    "# Yp_test = r.predict(T_test)\n",
    "# rmse = calc_rmse(Yp_test, Y_test, y_scaler)\n",
    "\n",
    "# print(\n",
    "#     f\"The regression on {kpcovr.n_components} KPCovR principal components has an RMSE of {rmse}ppm on the testing set.\"\n",
    "# )\n",
    "\n",
    "# from sklearn.decomposition import KernelPCA\n",
    "\n",
    "# kpca = KernelPCA(n_components=kpcovr.n_components, kernel=\"linear\")\n",
    "# kpca.fit(Phi_train)\n",
    "# T_train_kpca = kpca.transform(Phi_train)\n",
    "# T_test_kpca = kpca.transform(Phi_test)\n",
    "\n",
    "# r.fit(T_train_kpca, Y_train)\n",
    "# Yp_kpca_test = r.predict(T_test_kpca)\n",
    "# rmse = calc_rmse(Yp_kpca_test, Y_test, y_scaler)\n",
    "\n",
    "# print(\n",
    "#     f\"By comparison, a regression on {kpcovr.n_components} KPCA components gives an RMSE of {rmse}ppm.\"\n",
    "# )"
   ]
  },
  {
   "cell_type": "markdown",
   "metadata": {},
   "source": [
    "# Exporting to a Chemiscope"
   ]
  },
  {
   "cell_type": "code",
   "execution_count": 29,
   "metadata": {},
   "outputs": [],
   "source": [
    "import chemiscope\n",
    "\n",
    "output_name = \"kpcovr-chemiscope.json\""
   ]
  },
  {
   "cell_type": "markdown",
   "metadata": {},
   "source": [
    "We'll write one output combining the training set and the testing set."
   ]
  },
  {
   "cell_type": "code",
   "execution_count": 32,
   "metadata": {},
   "outputs": [],
   "source": [
    "T = np.zeros((X_raw.shape[0], kpcovr.n_components))\n",
    "T[i_test] = T_test\n",
    "T[i_train] = T_train\n",
    "\n",
    "train_test = np.zeros(X_raw.shape[0])\n",
    "train_test[i_train] = 1\n",
    "\n",
    "is_active = np.zeros(X_raw.shape[0])\n",
    "is_active[i_train[sample_idx]] = 1\n",
    "\n",
    "n_cur = 10\n",
    "cur_features = np.zeros((X_raw.shape[0], n_cur))\n",
    "cur_features[i_test] = X_raw_test[:, cur_idx[:n_cur]]\n",
    "cur_features[i_train] = X_raw_train[:, cur_idx[:n_cur]]\n",
    "\n",
    "chemiscope_properties = {\n",
    "    **{\n",
    "        f\"kpcovr_{i}\": {\"target\": target, \"values\": T[:, i]}\n",
    "        for i in range(kpcovr.n_components)\n",
    "    },\n",
    "    **{\n",
    "        f\"cur_feature_{i}\": {\"target\": target, \"values\": cur_features[:, i]}\n",
    "        for i in range(n_cur)\n",
    "    },\n",
    "    **{\n",
    "        prop_name: {\"target\": target, \"values\": Y[:, i]}\n",
    "        for i, prop_name in enumerate(properties)\n",
    "    },\n",
    "    \"is_training_point\": {\"target\": target, \"values\": train_test},\n",
    "    \"is_active_point\": {\"target\": target, \"values\": is_active},\n",
    "}\n",
    "\n",
    "meta = {\n",
    "    \"name\": \"...\",  # str, dataset name\n",
    "    \"description\": \"...\",  # str, dataset description\n",
    "    \"authors\": [  # list of str, dataset authors, OPTIONAL\n",
    "        \"...\",\n",
    "    ],\n",
    "    \"references\": [  # list of str, references for this dataset,\n",
    "        \"...\",  # OPTIONAL\n",
    "    ],\n",
    "}"
   ]
  },
  {
   "cell_type": "code",
   "execution_count": 33,
   "metadata": {},
   "outputs": [],
   "source": [
    "chemiscope.write_input(\n",
    "    output_name,\n",
    "    frames=frames,\n",
    "    properties=chemiscope_properties,\n",
    "    meta=meta,\n",
    "    cutoff=hypers[\"interaction_cutoff\"],\n",
    ")"
   ]
  },
  {
   "cell_type": "code",
   "execution_count": null,
   "metadata": {},
   "outputs": [],
   "source": []
  }
 ],
 "metadata": {
  "kernelspec": {
   "display_name": "Python 3",
   "language": "python",
   "name": "python3"
  },
  "language_info": {
   "codemirror_mode": {
    "name": "ipython",
    "version": 3
   },
   "file_extension": ".py",
   "mimetype": "text/x-python",
   "name": "python",
   "nbconvert_exporter": "python",
   "pygments_lexer": "ipython3",
   "version": "3.6.11"
  },
  "toc": {
   "base_numbering": 1,
   "nav_menu": {},
   "number_sections": true,
   "sideBar": true,
   "skip_h1_title": false,
   "title_cell": "Table of Contents",
   "title_sidebar": "Contents",
   "toc_cell": false,
   "toc_position": {},
   "toc_section_display": true,
   "toc_window_display": true
  }
 },
 "nbformat": 4,
 "nbformat_minor": 4
}
