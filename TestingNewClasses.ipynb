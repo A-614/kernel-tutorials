{
 "cells": [
  {
   "cell_type": "code",
   "execution_count": null,
   "metadata": {},
   "outputs": [],
   "source": [
    "#%load_ext autoreload\n",
    "#%autoreload 2\n",
    "\n",
    "import numpy as np\n",
    "\n",
    "from utilities.classes import *\n",
    "from utilities.general import FPS\n",
    "from utilities.plotting import plot_regression, plot_projection\n",
    "from utilities.kernels import center_kernel\n",
    "from matplotlib import pyplot as plt\n",
    "\n",
    "from utilities.kernels import linear_kernel, gaussian_kernel"
   ]
  },
  {
   "cell_type": "code",
   "execution_count": null,
   "metadata": {},
   "outputs": [],
   "source": [
    "training = np.load('../KernelPCovR/analysis/workspace/44510f9e5dec42b711c1467f03f7e504/training.npz')\n",
    "testing = np.load('../KernelPCovR/analysis/workspace/44510f9e5dec42b711c1467f03f7e504/testing.npz')"
   ]
  },
  {
   "cell_type": "code",
   "execution_count": null,
   "metadata": {},
   "outputs": [],
   "source": [
    "X = training[\"X\"][:2000] * training['Xs'] + training['Xc']\n",
    "Y = training[\"Y\"][:2000] * training['Ys'] + training['Yc']\n",
    "Xt = testing[\"X\"][:2000] * testing['Xs'] + testing['Xc'] # Same as training\n",
    "Yt = testing[\"Y\"][:2000] * testing['Ys'] + testing['Yc'] # Same as training\n",
    "\n",
    "fps, _ = FPS(X.T, 200)\n",
    "X = X[:, fps]\n",
    "Xt = Xt[:, fps]\n",
    "\n",
    "# Mess with some shit\n",
    "#X += np.random.uniform(-0.5, 0.5, X.shape[1])\n",
    "#Y += np.random.uniform(-0.5, 0.5, Y.shape[1])\n",
    "\n",
    "#Xt += np.random.uniform(-0.5, 0.5, Xt.shape[1])\n",
    "#Yt += np.random.uniform(-0.5, 0.5, Yt.shape[1])"
   ]
  },
  {
   "cell_type": "code",
   "execution_count": null,
   "metadata": {},
   "outputs": [],
   "source": [
    "scp = {\"linewidth\": 0.5, \"edgecolor\":\"k\", \"cbar\": False}"
   ]
  },
  {
   "cell_type": "code",
   "execution_count": null,
   "metadata": {},
   "outputs": [],
   "source": [
    "pca_uncentered = PCA(n_PC=2, scale=False, center=False)\n",
    "pca_uncentered.fit(X)\n",
    "\n",
    "pca_centered = PCA(n_PC=2, scale=True, center=True)\n",
    "pca_centered.fit(X)"
   ]
  },
  {
   "cell_type": "code",
   "execution_count": null,
   "metadata": {},
   "outputs": [],
   "source": [
    "fig, ax = plt.subplots(1,2, figsize=(12,5))\n",
    "plot_projection(Yt, pca_uncentered.transform(Xt), \n",
    "                fig=fig, title='Uncentered', ax=ax[0], **scp)\n",
    "plot_projection(Yt, pca_centered.transform(Xt), \n",
    "                fig=fig, title='Centered', ax=ax[1], **scp)"
   ]
  },
  {
   "cell_type": "code",
   "execution_count": null,
   "metadata": {},
   "outputs": [],
   "source": [
    "lr_centered = LR(center=True, scale=True, regularization=1.0E-15)\n",
    "lr_centered.fit(X, Y)\n",
    "print('finished centered fit')\n",
    "\n",
    "lr_uncentered = LR(center=False, scale=False, regularization=1.0E-15)\n",
    "lr_uncentered.fit(X, Y)\n",
    "print('finished uncentered fit')"
   ]
  },
  {
   "cell_type": "code",
   "execution_count": null,
   "metadata": {},
   "outputs": [],
   "source": [
    "fig, ax = plt.subplots(1,2, figsize=(12,5))\n",
    "plot_regression(Yt, lr_uncentered.transform(Xt), \n",
    "                fig=fig, title='Uncentered', ax=ax[0], **scp)\n",
    "print('done with uncentered')\n",
    "plot_regression(Yt, lr_centered.transform(Xt), \n",
    "                fig=fig, title='Centered', ax=ax[1], **scp)\n",
    "print('done with centered')"
   ]
  },
  {
   "cell_type": "code",
   "execution_count": null,
   "metadata": {},
   "outputs": [],
   "source": [
    "#K = linear_kernel(X, X)\n",
    "#Kt = linear_kernel(Xt, X)\n",
    "K = gaussian_kernel(X, X)\n",
    "Kt = gaussian_kernel(Xt, X)"
   ]
  },
  {
   "cell_type": "code",
   "execution_count": null,
   "metadata": {},
   "outputs": [],
   "source": [
    "kpca_uncentered = KPCA(n_PC=2, kernel_type='linear', scale=False, center=False)\n",
    "kpca_uncentered.fit(K=K)\n",
    "\n",
    "kpca_centered = KPCA(n_PC=2, kernel_type='linear', scale=True, center=True)\n",
    "kpca_centered.fit(K=K)"
   ]
  },
  {
   "cell_type": "code",
   "execution_count": null,
   "metadata": {},
   "outputs": [],
   "source": [
    "fig, ax = plt.subplots(1,2, figsize=(12,5))\n",
    "plot_projection(Yt, kpca_uncentered.transform(K=Kt), \n",
    "                fig=fig, title='Uncentered', ax=ax[0], **scp)\n",
    "plot_projection(Yt, kpca_centered.transform(K=Kt), \n",
    "                fig=fig, title='Centered', ax=ax[1], **scp)"
   ]
  },
  {
   "cell_type": "code",
   "execution_count": null,
   "metadata": {},
   "outputs": [],
   "source": [
    "krr_centered = KRR(kernel_type='linear', center=True, scale=True)\n",
    "krr_centered.fit(K=K, Y=Y)\n",
    "\n",
    "krr_uncentered = KRR(kernel_type='linear', center=False, scale=False)\n",
    "krr_uncentered.fit(K=K, Y=Y)"
   ]
  },
  {
   "cell_type": "code",
   "execution_count": null,
   "metadata": {},
   "outputs": [],
   "source": [
    "fig, ax = plt.subplots(1,2, figsize=(12,5))\n",
    "plot_regression(Yt, krr_uncentered.transform(K=Kt), \n",
    "                fig=fig, title='Uncentered', ax=ax[0], **scp)\n",
    "plot_regression(Yt, krr_centered.transform(K=Kt), \n",
    "                fig=fig, title='Centered', ax=ax[1], **scp)"
   ]
  },
  {
   "cell_type": "code",
   "execution_count": null,
   "metadata": {},
   "outputs": [],
   "source": [
    "n_active = 50\n",
    "fps_sparse, _ = FPS(X, n_active)\n",
    "X_sparse = X[fps_sparse]"
   ]
  },
  {
   "cell_type": "code",
   "execution_count": null,
   "metadata": {},
   "outputs": [],
   "source": [
    "#Knm = linear_kernel(X, X_sparse)\n",
    "#Knmt = linear_kernel(Xt, X_sparse)\n",
    "#Kmm = linear_kernel(X_sparse, X_sparse)\n",
    "Knm = gaussian_kernel(X, X_sparse)\n",
    "Knmt = gaussian_kernel(Xt, X_sparse)\n",
    "Kmm = gaussian_kernel(X_sparse, X_sparse)"
   ]
  },
  {
   "cell_type": "code",
   "execution_count": null,
   "metadata": {},
   "outputs": [],
   "source": [
    "skpca_uncentered = SparseKPCA(kernel_type='linear', n_PC=2, n_active=n_active,\n",
    "                              scale=False, center=False)\n",
    "skpca_uncentered.fit(X=X, Knm=Knm, Kmm=Kmm)\n",
    "\n",
    "skpca_centered = SparseKPCA(kernel_type='linear', n_PC=2, n_active=n_active,\n",
    "                            scale=True, center=True)\n",
    "skpca_centered.fit(X=X, Knm=Knm, Kmm=Kmm)"
   ]
  },
  {
   "cell_type": "code",
   "execution_count": null,
   "metadata": {},
   "outputs": [],
   "source": [
    "fig, ax = plt.subplots(1,2, figsize=(12,5))\n",
    "plot_projection(Yt, skpca_uncentered.transform(X=Xt, Knm=Knmt), \n",
    "                fig=fig, title='Uncentered', ax=ax[0], **scp)\n",
    "plot_projection(Yt, skpca_centered.transform(X=Xt, Knm=Knmt), \n",
    "                fig=fig, title='Centered', ax=ax[1], **scp)"
   ]
  },
  {
   "cell_type": "code",
   "execution_count": null,
   "metadata": {},
   "outputs": [],
   "source": [
    "skrr_centered = SparseKRR(kernel_type='linear', n_active=n_active,center=True, scale=True)\n",
    "skrr_centered.fit(X=X, Knm=Knm, Kmm=Kmm, Y=Y)\n",
    "\n",
    "skrr_uncentered = SparseKRR(kernel_type='linear', n_active=n_active, center=False, scale=False)\n",
    "skrr_uncentered.fit(X=X, Knm=Knm, Kmm=Kmm, Y=Y)"
   ]
  },
  {
   "cell_type": "code",
   "execution_count": null,
   "metadata": {},
   "outputs": [],
   "source": [
    "fig, ax = plt.subplots(1,2, figsize=(12,5))\n",
    "plot_regression(Yt, skrr_uncentered.transform(X=Xt, Knm=Knmt), \n",
    "                fig=fig, title='Uncentered', ax=ax[0], **scp)\n",
    "plot_regression(Yt, skrr_centered.transform(X=Xt, Knm=Knmt), \n",
    "                fig=fig, title='Centered', ax=ax[1], **scp)"
   ]
  },
  {
   "cell_type": "code",
   "execution_count": null,
   "metadata": {},
   "outputs": [],
   "source": [
    "alpha = 1.0"
   ]
  },
  {
   "cell_type": "code",
   "execution_count": null,
   "metadata": {},
   "outputs": [],
   "source": [
    "PCovR_uncentered = PCovR(alpha=alpha, n_PC=2, scale=False, center=False)\n",
    "PCovR_uncentered.fit(X, Y)\n",
    "\n",
    "PCovR_centered = PCovR(alpha=alpha, n_PC=2, scale=True, center=True)\n",
    "PCovR_centered.fit(X, Y)"
   ]
  },
  {
   "cell_type": "code",
   "execution_count": null,
   "metadata": {},
   "outputs": [],
   "source": [
    "T_unc, Yp_unc, Xr_unc = PCovR_uncentered.transform(Xt)\n",
    "T_c, Yp_c, Xr_c = PCovR_centered.transform(Xt)\n",
    "\n",
    "\n",
    "fig, ax = plt.subplots(2,2, figsize=(12,12))\n",
    "plot_projection(Yt, T_unc, \n",
    "                fig=fig, title='Uncentered', ax=ax[0][0], **scp)\n",
    "plot_projection(Yt, T_c,\n",
    "                fig=fig, title='Centered', ax=ax[0][1], **scp)\n",
    "plot_regression(Yt, Yp_unc, \n",
    "                fig=fig, ax=ax[1][0], **scp)\n",
    "plot_regression(Yt, Yp_c,\n",
    "                fig=fig, ax=ax[1][1], **scp)"
   ]
  },
  {
   "cell_type": "code",
   "execution_count": null,
   "metadata": {},
   "outputs": [],
   "source": [
    "KPCovR_uncentered = KPCovR(kernel_type='linear', alpha=alpha, n_PC=2, scale=False, center=False, regularization=1.0E-15)\n",
    "KPCovR_uncentered.fit(X, Y, K=K)\n",
    "\n",
    "KPCovR_centered = KPCovR(kernel_type='linear', alpha=alpha, n_PC=2, scale=True, center=True)\n",
    "KPCovR_centered.fit(X, Y, K=K)"
   ]
  },
  {
   "cell_type": "code",
   "execution_count": null,
   "metadata": {},
   "outputs": [],
   "source": [
    "T_unc, Yp_unc, Xr_unc = KPCovR_uncentered.transform(K=Kt)\n",
    "T_c, Yp_c, Xr_c = KPCovR_centered.transform(K=Kt)\n",
    "\n",
    "\n",
    "fig, ax = plt.subplots(2,2, figsize=(12,12))\n",
    "plot_projection(Yt, T_unc, \n",
    "                fig=fig, title='Uncentered', ax=ax[0][0], **scp)\n",
    "plot_projection(Yt, T_c,\n",
    "                fig=fig, title='Centered', ax=ax[0][1], **scp)\n",
    "plot_regression(Yt, Yp_unc, \n",
    "                fig=fig, ax=ax[1][0], **scp)\n",
    "plot_regression(Yt, Yp_c,\n",
    "                fig=fig, ax=ax[1][1], **scp)"
   ]
  },
  {
   "cell_type": "code",
   "execution_count": null,
   "metadata": {},
   "outputs": [],
   "source": [
    "skpcovr_uncentered = SparseKPCovR(kernel_type='linear', alpha=alpha, n_PC=2, \n",
    "                                 n_active=n_active,\n",
    "                                 scale=False, center=False)\n",
    "skpcovr_uncentered.fit(X, Y, Knm=Knm, Kmm=Kmm)\n",
    "\n",
    "skpcovr_centered = SparseKPCovR(kernel_type='linear', alpha=alpha, n_PC=2, \n",
    "                                 n_active=n_active,\n",
    "                               scale=True, center=True)\n",
    "skpcovr_centered.fit(X, Y, Knm=Knm, Kmm=Kmm)"
   ]
  },
  {
   "cell_type": "code",
   "execution_count": null,
   "metadata": {},
   "outputs": [],
   "source": [
    "T_unc, Yp_unc, Xr_unc = skpcovr_uncentered.transform(X=Xt, Knm=Knmt)\n",
    "T_c, Yp_c, Xr_c = skpcovr_centered.transform(X=Xt, Knm=Knmt)\n",
    "\n",
    "\n",
    "fig, ax = plt.subplots(2,2, figsize=(12,12))\n",
    "plot_projection(Yt, T_unc, \n",
    "                fig=fig, title='Uncentered', ax=ax[0][0], **scp)\n",
    "plot_projection(Yt, T_c,\n",
    "                fig=fig, title='Centered', ax=ax[0][1], **scp)\n",
    "plot_regression(Yt, Yp_unc, \n",
    "                fig=fig, ax=ax[1][0], **scp)\n",
    "plot_regression(Yt, Yp_c,\n",
    "                fig=fig, ax=ax[1][1], **scp)"
   ]
  },
  {
   "cell_type": "code",
   "execution_count": null,
   "metadata": {},
   "outputs": [],
   "source": [
    "# Check centering of Kmm\n",
    "Knm = gaussian_kernel(X, X_sparse)\n",
    "Kmnt = gaussian_kernel(Xt, X_sparse)\n",
    "Kmm = gaussian_kernel(X_sparse, X_sparse)\n",
    "Kmmc = center_kernel(Kmm)/1.0E5\n",
    "Kmmcc = Kmm - np.mean(Knm, axis=0)"
   ]
  },
  {
   "cell_type": "code",
   "execution_count": null,
   "metadata": {},
   "outputs": [],
   "source": [
    "print(np.linalg.pinv(Kmm))\n",
    "print(np.linalg.pinv(Kmmc))"
   ]
  },
  {
   "cell_type": "code",
   "execution_count": null,
   "metadata": {},
   "outputs": [],
   "source": [
    "print(np.linalg.eigvalsh(Kmm))\n",
    "print(np.linalg.eigvalsh(Kmmc))"
   ]
  },
  {
   "cell_type": "code",
   "execution_count": null,
   "metadata": {},
   "outputs": [],
   "source": [
    "skpca_uncentered_Kmm = SparseKPCA(kernel_type='linear', n_PC=2, n_active=n_active,\n",
    "                              scale=True, center=True)\n",
    "skpca_uncentered_Kmm.fit(X=X, Knm=Knm, Kmm=Kmm)\n",
    "\n",
    "skpca_centered_Kmm = SparseKPCA(kernel_type='linear', n_PC=2, n_active=n_active,\n",
    "                            scale=True, center=True)\n",
    "skpca_centered_Kmm.fit(X=X, Knm=Knm, Kmm=Kmmc)"
   ]
  },
  {
   "cell_type": "code",
   "execution_count": null,
   "metadata": {},
   "outputs": [],
   "source": [
    "print(skpca_uncentered_Kmm.transform(X=Xt, Knm=Knmt))\n",
    "print(skpca_centered_Kmm.transform(X=Xt, Knm=Knmt))"
   ]
  },
  {
   "cell_type": "code",
   "execution_count": null,
   "metadata": {},
   "outputs": [],
   "source": [
    "skrr_uncentered_Kmm = SparseKRR(kernel_type='linear', n_active=n_active, center=True, scale=True)\n",
    "skrr_uncentered_Kmm.fit(X=X, Knm=Knm, Kmm=Kmm, Y=Y)\n",
    "\n",
    "skrr_centered_Kmm = SparseKRR(kernel_type='linear', n_active=n_active,center=True, scale=True)\n",
    "skrr_centered_Kmm.fit(X=X, Knm=Knm, Kmm=Kmmc, Y=Y)"
   ]
  },
  {
   "cell_type": "code",
   "execution_count": null,
   "metadata": {},
   "outputs": [],
   "source": [
    "print(skrr_uncentered_Kmm.transform(X=Xt, Knm=Knmt))\n",
    "print(skrr_centered_Kmm.transform(X=Xt, Knm=Knmt))"
   ]
  },
  {
   "cell_type": "code",
   "execution_count": null,
   "metadata": {},
   "outputs": [],
   "source": [
    "skpcovr_uncentered_Kmm = SparseKPCovR(kernel_type='linear', alpha=1.0, n_PC=2, \n",
    "                                 n_active=n_active,\n",
    "                                 scale=True, center=True)\n",
    "skpcovr_uncentered_Kmm.fit(X, Y, Knm=Knm, Kmm=Kmm)\n",
    "\n",
    "skpcovr_centered_Kmm = SparseKPCovR(kernel_type='linear', alpha=1.0, n_PC=2, \n",
    "                                 n_active=n_active,\n",
    "                               scale=True, center=True)\n",
    "skpcovr_centered_Kmm.fit(X, Y, Knm=Knm, Kmm=Kmmc)\n",
    "\n",
    "T_unc, Yp_unc, Xr_unc = skpcovr_uncentered_Kmm.transform(X=Xt, Knm=Knmt)\n",
    "T_c, Yp_c, Xr_c = skpcovr_centered_Kmm.transform(X=Xt, Knm=Knmt)"
   ]
  },
  {
   "cell_type": "code",
   "execution_count": null,
   "metadata": {},
   "outputs": [],
   "source": [
    "print(T_unc)\n",
    "print(T_c)"
   ]
  },
  {
   "cell_type": "code",
   "execution_count": null,
   "metadata": {},
   "outputs": [],
   "source": [
    "print(Yp_unc)\n",
    "print(Yp_c)"
   ]
  },
  {
   "cell_type": "code",
   "execution_count": null,
   "metadata": {},
   "outputs": [],
   "source": [
    "print(Xr_unc)\n",
    "print(Xr_c)"
   ]
  }
 ],
 "metadata": {
  "kernelspec": {
   "display_name": "Python 3",
   "language": "python",
   "name": "python3"
  },
  "language_info": {
   "codemirror_mode": {
    "name": "ipython",
    "version": 3
   },
   "file_extension": ".py",
   "mimetype": "text/x-python",
   "name": "python",
   "nbconvert_exporter": "python",
   "pygments_lexer": "ipython3",
   "version": "3.6.9"
  },
  "toc": {
   "base_numbering": 1,
   "nav_menu": {},
   "number_sections": true,
   "sideBar": true,
   "skip_h1_title": false,
   "title_cell": "Table of Contents",
   "title_sidebar": "Contents",
   "toc_cell": false,
   "toc_position": {},
   "toc_section_display": true,
   "toc_window_display": false
  }
 },
 "nbformat": 4,
 "nbformat_minor": 2
}
