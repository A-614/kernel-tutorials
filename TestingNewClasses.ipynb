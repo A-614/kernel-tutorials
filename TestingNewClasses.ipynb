{
 "cells": [
  {
   "cell_type": "code",
   "execution_count": null,
   "metadata": {},
   "outputs": [],
   "source": [
    "%load_ext autoreload\n",
    "%autoreload 2\n",
    "\n",
    "from utilities.classes import *\n",
    "from utilities.general import FPS\n",
    "from utilities.plotting import plot_regression, plot_projection\n",
    "from matplotlib import pyplot as plt"
   ]
  },
  {
   "cell_type": "code",
   "execution_count": null,
   "metadata": {},
   "outputs": [],
   "source": [
    "import numpy as np"
   ]
  },
  {
   "cell_type": "code",
   "execution_count": null,
   "metadata": {},
   "outputs": [],
   "source": [
    "training = np.load('../KernelPCovR/analysis/workspace/44510f9e5dec42b711c1467f03f7e504/training.npz')"
   ]
  },
  {
   "cell_type": "code",
   "execution_count": null,
   "metadata": {},
   "outputs": [],
   "source": [
    "X = training[\"X\"][:2000]\n",
    "Y = training[\"Y\"][:2000]\n",
    "\n",
    "fps, _ = FPS(X.T, 200)\n",
    "X = X[:, fps]\n",
    "\n",
    "# Mess with some shit\n",
    "X += np.random.uniform(-0.5, 0.5, X.shape[1])\n",
    "Y += np.random.uniform(-0.5, 0.5, Y.shape[1])"
   ]
  },
  {
   "cell_type": "code",
   "execution_count": null,
   "metadata": {},
   "outputs": [],
   "source": [
    "scp = {\"linewidth\": 0.5, \"edgecolor\":\"k\", \"cbar\": False}"
   ]
  },
  {
   "cell_type": "code",
   "execution_count": null,
   "metadata": {},
   "outputs": [],
   "source": [
    "pca_uncentered = PCA(n_PC=2, scale=False, center=False)\n",
    "pca_uncentered.fit(X)\n",
    "\n",
    "pca_centered = PCA(n_PC=2, scale=True, center=True)\n",
    "pca_centered.fit(X)"
   ]
  },
  {
   "cell_type": "code",
   "execution_count": null,
   "metadata": {},
   "outputs": [],
   "source": [
    "fig, ax = plt.subplots(1,2, figsize=(12,5))\n",
    "plot_projection(Y, pca_uncentered.transform(X), \n",
    "                fig=fig, title='Uncentered', ax=ax[0], **scp)\n",
    "plot_projection(Y, pca_centered.transform(X), \n",
    "                fig=fig, title='Centered', ax=ax[1], **scp)"
   ]
  },
  {
   "cell_type": "code",
   "execution_count": null,
   "metadata": {},
   "outputs": [],
   "source": [
    "lr_centered = LR(center=True, scale=True)\n",
    "lr_centered.fit(X, Y)\n",
    "\n",
    "lr_uncentered = LR(center=False, scale=False)\n",
    "lr_uncentered.fit(X, Y)"
   ]
  },
  {
   "cell_type": "code",
   "execution_count": null,
   "metadata": {},
   "outputs": [],
   "source": [
    "fig, ax = plt.subplots(1,2, figsize=(12,5))\n",
    "plot_regression(Y, lr_uncentered.transform(X), \n",
    "                fig=fig, title='Uncentered', ax=ax[0], **scp)\n",
    "plot_regression(Y, lr_centered.transform(X), \n",
    "                fig=fig, title='Centered', ax=ax[1], **scp)"
   ]
  },
  {
   "cell_type": "code",
   "execution_count": null,
   "metadata": {},
   "outputs": [],
   "source": [
    "K = np.matmul(X, X.T)"
   ]
  },
  {
   "cell_type": "code",
   "execution_count": null,
   "metadata": {},
   "outputs": [],
   "source": [
    "kpca_uncentered = KPCA(n_PC=2, scale=False, center=False)\n",
    "kpca_uncentered.fit(K=K)\n",
    "\n",
    "kpca_centered = KPCA(n_PC=2, scale=True, center=True)\n",
    "kpca_centered.fit(K=K)"
   ]
  },
  {
   "cell_type": "code",
   "execution_count": null,
   "metadata": {},
   "outputs": [],
   "source": [
    "fig, ax = plt.subplots(1,2, figsize=(12,5))\n",
    "plot_projection(Y, kpca_uncentered.transform(K=K), \n",
    "                fig=fig, title='Uncentered', ax=ax[0], **scp)\n",
    "plot_projection(Y, kpca_centered.transform(K=K), \n",
    "                fig=fig, title='Centered', ax=ax[1], **scp)"
   ]
  },
  {
   "cell_type": "code",
   "execution_count": null,
   "metadata": {},
   "outputs": [],
   "source": [
    "krr_centered = KRR(center=True, scale=True)\n",
    "krr_centered.fit(K=K, Y=Y)\n",
    "\n",
    "krr_uncentered = KRR(center=False, scale=False)\n",
    "krr_uncentered.fit(K=K, Y=Y)"
   ]
  },
  {
   "cell_type": "code",
   "execution_count": null,
   "metadata": {},
   "outputs": [],
   "source": [
    "fig, ax = plt.subplots(1,2, figsize=(12,5))\n",
    "plot_regression(Y, krr_uncentered.transform(K=K), \n",
    "                fig=fig, title='Uncentered', ax=ax[0], **scp)\n",
    "plot_regression(Y, krr_centered.transform(K=K), \n",
    "                fig=fig, title='Centered', ax=ax[1], **scp)"
   ]
  },
  {
   "cell_type": "code",
   "execution_count": null,
   "metadata": {},
   "outputs": [],
   "source": [
    "fps_sparse, _ = FPS(X, 50)\n",
    "X_sparse = X[fps_sparse]"
   ]
  },
  {
   "cell_type": "code",
   "execution_count": null,
   "metadata": {},
   "outputs": [],
   "source": [
    "Knm = np.matmul(X, X_sparse.T)\n",
    "Kmm = np.matmul(X_sparse, X_sparse.T)"
   ]
  },
  {
   "cell_type": "code",
   "execution_count": null,
   "metadata": {},
   "outputs": [],
   "source": [
    "skpca_uncentered = SparseKPCA(n_PC=2, n_active=50,\n",
    "                              scale=False, center=False)\n",
    "skpca_uncentered.fit(X=X, Knm=Knm, Kmm=Kmm)\n",
    "\n",
    "skpca_centered = SparseKPCA(n_PC=2, n_active=50,\n",
    "                            scale=True, center=True)\n",
    "skpca_centered.fit(X=X, Knm=Knm, Kmm=Kmm)"
   ]
  },
  {
   "cell_type": "code",
   "execution_count": null,
   "metadata": {},
   "outputs": [],
   "source": [
    "fig, ax = plt.subplots(1,2, figsize=(12,5))\n",
    "plot_projection(Y, skpca_uncentered.transform(X=X, Knm=Knm), \n",
    "                fig=fig, title='Uncentered', ax=ax[0], **scp)\n",
    "plot_projection(Y, skpca_centered.transform(X=X, Knm=Knm), \n",
    "                fig=fig, title='Centered', ax=ax[1], **scp)"
   ]
  },
  {
   "cell_type": "code",
   "execution_count": null,
   "metadata": {},
   "outputs": [],
   "source": [
    "skrr_centered = SparseKRR(n_active=50,center=True, scale=True)\n",
    "skrr_centered.fit(X=X, Knm=Knm, Kmm=Kmm, Y=Y)\n",
    "\n",
    "skrr_uncentered = SparseKRR(n_active=50, center=False, scale=False)\n",
    "skrr_uncentered.fit(X=X, Knm=Knm, Kmm=Kmm, Y=Y)"
   ]
  },
  {
   "cell_type": "code",
   "execution_count": null,
   "metadata": {},
   "outputs": [],
   "source": [
    "fig, ax = plt.subplots(1,2, figsize=(12,5))\n",
    "plot_regression(Y, skrr_uncentered.transform(X=X, Knm=Knm), \n",
    "                fig=fig, title='Uncentered', ax=ax[0], **scp)\n",
    "plot_regression(Y, skrr_centered.transform(X=X, Knm=Knm), \n",
    "                fig=fig, title='Centered', ax=ax[1], **scp)"
   ]
  },
  {
   "cell_type": "code",
   "execution_count": null,
   "metadata": {},
   "outputs": [],
   "source": [
    "PCovR_uncentered = PCovR(alpha=0.5, n_PC=2, scale=False, center=False)\n",
    "PCovR_uncentered.fit(X, Y)\n",
    "\n",
    "PCovR_centered = PCovR(alpha=0.5, n_PC=2, scale=True, center=True)\n",
    "PCovR_centered.fit(X, Y)"
   ]
  },
  {
   "cell_type": "code",
   "execution_count": null,
   "metadata": {},
   "outputs": [],
   "source": [
    "T_unc, Yp_unc, Xr_unc = PCovR_uncentered.transform(X)\n",
    "T_c, Yp_c, Xr_c = PCovR_centered.transform(X)\n",
    "\n",
    "\n",
    "fig, ax = plt.subplots(2,2, figsize=(12,12))\n",
    "plot_projection(Y, T_unc, \n",
    "                fig=fig, title='Uncentered', ax=ax[0][0], **scp)\n",
    "plot_projection(Y, T_c,\n",
    "                fig=fig, title='Centered', ax=ax[0][1], **scp)\n",
    "plot_regression(Y, Yp_unc, \n",
    "                fig=fig, ax=ax[1][0], **scp)\n",
    "plot_regression(Y, Yp_c,\n",
    "                fig=fig, ax=ax[1][1], **scp)"
   ]
  },
  {
   "cell_type": "code",
   "execution_count": null,
   "metadata": {},
   "outputs": [],
   "source": [
    "KPCovR_uncentered = KPCovR(alpha=0.5, n_PC=2, scale=False, center=False)\n",
    "KPCovR_uncentered.fit(X, Y, K=K)\n",
    "\n",
    "KPCovR_centered = KPCovR(alpha=0.5, n_PC=2, scale=True, center=True)\n",
    "KPCovR_centered.fit(X, Y, K=K)"
   ]
  },
  {
   "cell_type": "code",
   "execution_count": null,
   "metadata": {},
   "outputs": [],
   "source": [
    "T_unc, Yp_unc, Xr_unc = KPCovR_uncentered.transform(K=K)\n",
    "T_c, Yp_c, Xr_c = KPCovR_centered.transform(K=K)\n",
    "\n",
    "\n",
    "fig, ax = plt.subplots(2,2, figsize=(12,12))\n",
    "plot_projection(Y, T_unc, \n",
    "                fig=fig, title='Uncentered', ax=ax[0][0], **scp)\n",
    "plot_projection(Y, T_c,\n",
    "                fig=fig, title='Centered', ax=ax[0][1], **scp)\n",
    "plot_regression(Y, Yp_unc, \n",
    "                fig=fig, ax=ax[1][0], **scp)\n",
    "plot_regression(Y, Yp_c,\n",
    "                fig=fig, ax=ax[1][1], **scp)"
   ]
  },
  {
   "cell_type": "code",
   "execution_count": null,
   "metadata": {},
   "outputs": [],
   "source": [
    "skpcovr_uncentered = SparseKPCovR(alpha=0.5, n_PC=2, \n",
    "                                 n_active=50,\n",
    "                                 scale=False, center=False)\n",
    "skpcovr_uncentered.fit(X, Y, Knm=Knm, Kmm=Kmm)\n",
    "\n",
    "skpcovr_centered = SparseKPCovR(alpha=0.5, n_PC=2, \n",
    "                                 n_active=50,\n",
    "                               scale=True, center=True)\n",
    "skpcovr_centered.fit(X, Y, Knm=Knm, Kmm=Kmm)"
   ]
  },
  {
   "cell_type": "code",
   "execution_count": null,
   "metadata": {},
   "outputs": [],
   "source": [
    "T_unc, Yp_unc, Xr_unc = skpcovr_uncentered.transform(X=X, Knm=Knm)\n",
    "T_c, Yp_c, Xr_c = skpcovr_centered.transform(X=X, Knm=Knm)\n",
    "\n",
    "\n",
    "fig, ax = plt.subplots(2,2, figsize=(12,12))\n",
    "plot_projection(Y, T_unc, \n",
    "                fig=fig, title='Uncentered', ax=ax[0][0], **scp)\n",
    "plot_projection(Y, T_c,\n",
    "                fig=fig, title='Centered', ax=ax[0][1], **scp)\n",
    "plot_regression(Y, Yp_unc, \n",
    "                fig=fig, ax=ax[1][0], **scp)\n",
    "plot_regression(Y, Yp_c,\n",
    "                fig=fig, ax=ax[1][1], **scp)"
   ]
  },
  {
   "cell_type": "code",
   "execution_count": null,
   "metadata": {},
   "outputs": [],
   "source": []
  }
 ],
 "metadata": {
  "kernelspec": {
   "display_name": "Python 3",
   "language": "python",
   "name": "python3"
  },
  "language_info": {
   "codemirror_mode": {
    "name": "ipython",
    "version": 3
   },
   "file_extension": ".py",
   "mimetype": "text/x-python",
   "name": "python",
   "nbconvert_exporter": "python",
   "pygments_lexer": "ipython3",
   "version": "3.6.8"
  },
  "toc": {
   "base_numbering": 1,
   "nav_menu": {},
   "number_sections": true,
   "sideBar": true,
   "skip_h1_title": false,
   "title_cell": "Table of Contents",
   "title_sidebar": "Contents",
   "toc_cell": false,
   "toc_position": {},
   "toc_section_display": true,
   "toc_window_display": false
  }
 },
 "nbformat": 4,
 "nbformat_minor": 2
}
